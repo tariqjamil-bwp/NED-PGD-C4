{
 "cells": [
  {
   "cell_type": "markdown",
   "id": "0c502769",
   "metadata": {},
   "source": [
    "# Computer Vision"
   ]
  },
  {
   "cell_type": "markdown",
   "id": "fda70bac",
   "metadata": {},
   "source": [
    "* Create dataset\n",
    "* make folder train and test with cat and dog classes"
   ]
  },
  {
   "cell_type": "code",
   "execution_count": 1,
   "id": "46f7f221",
   "metadata": {},
   "outputs": [
    {
     "name": "stderr",
     "output_type": "stream",
     "text": [
      "2022-12-09 00:05:41.814689: I tensorflow/core/platform/cpu_feature_guard.cc:193] This TensorFlow binary is optimized with oneAPI Deep Neural Network Library (oneDNN) to use the following CPU instructions in performance-critical operations:  AVX2 FMA\n",
      "To enable them in other operations, rebuild TensorFlow with the appropriate compiler flags.\n",
      "2022-12-09 00:05:41.987694: W tensorflow/compiler/xla/stream_executor/platform/default/dso_loader.cc:64] Could not load dynamic library 'libcudart.so.11.0'; dlerror: libcudart.so.11.0: cannot open shared object file: No such file or directory\n",
      "2022-12-09 00:05:41.987719: I tensorflow/compiler/xla/stream_executor/cuda/cudart_stub.cc:29] Ignore above cudart dlerror if you do not have a GPU set up on your machine.\n",
      "2022-12-09 00:05:42.782291: W tensorflow/compiler/xla/stream_executor/platform/default/dso_loader.cc:64] Could not load dynamic library 'libnvinfer.so.7'; dlerror: libnvinfer.so.7: cannot open shared object file: No such file or directory\n",
      "2022-12-09 00:05:42.782337: W tensorflow/compiler/xla/stream_executor/platform/default/dso_loader.cc:64] Could not load dynamic library 'libnvinfer_plugin.so.7'; dlerror: libnvinfer_plugin.so.7: cannot open shared object file: No such file or directory\n",
      "2022-12-09 00:05:42.782343: W tensorflow/compiler/tf2tensorrt/utils/py_utils.cc:38] TF-TRT Warning: Cannot dlopen some TensorRT libraries. If you would like to use Nvidia GPU with TensorRT, please make sure the missing libraries mentioned above are installed properly.\n"
     ]
    }
   ],
   "source": [
    "from tensorflow.keras.preprocessing.image import ImageDataGenerator"
   ]
  },
  {
   "cell_type": "code",
   "execution_count": 2,
   "id": "73ab5484",
   "metadata": {},
   "outputs": [],
   "source": [
    "import numpy as np"
   ]
  },
  {
   "cell_type": "markdown",
   "id": "c1894f9e",
   "metadata": {},
   "source": [
    "## Step2: Conver each class image into numpy tensor"
   ]
  },
  {
   "cell_type": "code",
   "execution_count": 3,
   "id": "8becd4f7",
   "metadata": {},
   "outputs": [],
   "source": [
    "train_data_gen = ImageDataGenerator(rescale=1.0/255)"
   ]
  },
  {
   "cell_type": "code",
   "execution_count": 4,
   "id": "7d8d98e4",
   "metadata": {},
   "outputs": [
    {
     "name": "stdout",
     "output_type": "stream",
     "text": [
      "Found 8 images belonging to 2 classes.\n"
     ]
    }
   ],
   "source": [
    "train_data = train_data_gen.flow_from_directory(\n",
    "    \"./data/train/\",\n",
    "    target_size=(60,60),\n",
    "    batch_size=1,\n",
    "    class_mode='binary'\n",
    ")"
   ]
  },
  {
   "cell_type": "raw",
   "id": "a0a8a06d",
   "metadata": {},
   "source": [
    "train_data[0]# select one image"
   ]
  },
  {
   "cell_type": "code",
   "execution_count": 5,
   "id": "7c2c9170",
   "metadata": {},
   "outputs": [
    {
     "name": "stdout",
     "output_type": "stream",
     "text": [
      "{'cat': 0, 'dog': 1}\n",
      "binary\n",
      "[0 0 0 0 1 1 1 1]\n"
     ]
    }
   ],
   "source": [
    "print(train_data.class_indices)\n",
    "print(train_data.class_mode)\n",
    "print(train_data.classes)\n"
   ]
  },
  {
   "cell_type": "markdown",
   "id": "451f1027",
   "metadata": {},
   "source": [
    "# now create network"
   ]
  },
  {
   "cell_type": "code",
   "execution_count": 6,
   "id": "a70b5b61",
   "metadata": {},
   "outputs": [
    {
     "data": {
      "text/plain": [
       "67500"
      ]
     },
     "execution_count": 6,
     "metadata": {},
     "output_type": "execute_result"
    }
   ],
   "source": [
    "150*150*3"
   ]
  },
  {
   "cell_type": "code",
   "execution_count": 7,
   "id": "a9f723c9",
   "metadata": {},
   "outputs": [],
   "source": [
    "from tensorflow.keras.models import Sequential\n",
    "from tensorflow.keras.layers import Dense, Flatten\n",
    "from tensorflow.keras.optimizers import Adam, SGD"
   ]
  },
  {
   "cell_type": "code",
   "execution_count": 8,
   "id": "fa35f3b3",
   "metadata": {},
   "outputs": [
    {
     "name": "stderr",
     "output_type": "stream",
     "text": [
      "2022-12-09 00:05:45.709375: I tensorflow/compiler/xla/stream_executor/cuda/cuda_gpu_executor.cc:981] successful NUMA node read from SysFS had negative value (-1), but there must be at least one NUMA node, so returning NUMA node zero\n",
      "2022-12-09 00:05:45.709645: W tensorflow/compiler/xla/stream_executor/platform/default/dso_loader.cc:64] Could not load dynamic library 'libcudart.so.11.0'; dlerror: libcudart.so.11.0: cannot open shared object file: No such file or directory\n",
      "2022-12-09 00:05:45.710112: W tensorflow/compiler/xla/stream_executor/platform/default/dso_loader.cc:64] Could not load dynamic library 'libcublas.so.11'; dlerror: libcublas.so.11: cannot open shared object file: No such file or directory\n",
      "2022-12-09 00:05:45.710540: W tensorflow/compiler/xla/stream_executor/platform/default/dso_loader.cc:64] Could not load dynamic library 'libcublasLt.so.11'; dlerror: libcublasLt.so.11: cannot open shared object file: No such file or directory\n",
      "2022-12-09 00:05:45.710607: W tensorflow/compiler/xla/stream_executor/platform/default/dso_loader.cc:64] Could not load dynamic library 'libcufft.so.10'; dlerror: libcufft.so.10: cannot open shared object file: No such file or directory\n",
      "2022-12-09 00:05:45.710764: W tensorflow/compiler/xla/stream_executor/platform/default/dso_loader.cc:64] Could not load dynamic library 'libcurand.so.10'; dlerror: libcurand.so.10: cannot open shared object file: No such file or directory\n",
      "2022-12-09 00:05:45.711110: W tensorflow/compiler/xla/stream_executor/platform/default/dso_loader.cc:64] Could not load dynamic library 'libcusolver.so.11'; dlerror: libcusolver.so.11: cannot open shared object file: No such file or directory\n",
      "2022-12-09 00:05:45.711153: W tensorflow/compiler/xla/stream_executor/platform/default/dso_loader.cc:64] Could not load dynamic library 'libcusparse.so.11'; dlerror: libcusparse.so.11: cannot open shared object file: No such file or directory\n",
      "2022-12-09 00:05:45.711193: W tensorflow/compiler/xla/stream_executor/platform/default/dso_loader.cc:64] Could not load dynamic library 'libcudnn.so.8'; dlerror: libcudnn.so.8: cannot open shared object file: No such file or directory\n",
      "2022-12-09 00:05:45.711203: W tensorflow/core/common_runtime/gpu/gpu_device.cc:1934] Cannot dlopen some GPU libraries. Please make sure the missing libraries mentioned above are installed properly if you would like to use GPU. Follow the guide at https://www.tensorflow.org/install/gpu for how to download and setup the required libraries for your platform.\n",
      "Skipping registering GPU devices...\n",
      "2022-12-09 00:05:45.711904: I tensorflow/core/platform/cpu_feature_guard.cc:193] This TensorFlow binary is optimized with oneAPI Deep Neural Network Library (oneDNN) to use the following CPU instructions in performance-critical operations:  AVX2 FMA\n",
      "To enable them in other operations, rebuild TensorFlow with the appropriate compiler flags.\n"
     ]
    }
   ],
   "source": [
    "model = Sequential()\n",
    "model.add(Flatten())\n",
    "model.add(Dense(5000, activation='relu'))\n",
    "model.add(Dense(1, activation='sigmoid'))"
   ]
  },
  {
   "cell_type": "code",
   "execution_count": 9,
   "id": "541af9ab",
   "metadata": {},
   "outputs": [],
   "source": [
    "model.compile(loss='binary_crossentropy',\n",
    "             optimizer='adam',\n",
    "             metrics=['acc'])"
   ]
  },
  {
   "cell_type": "code",
   "execution_count": 10,
   "id": "98ddbcbe",
   "metadata": {},
   "outputs": [
    {
     "name": "stderr",
     "output_type": "stream",
     "text": [
      "2022-12-09 00:05:45.835171: W tensorflow/tsl/framework/cpu_allocator_impl.cc:82] Allocation of 216000000 exceeds 10% of free system memory.\n",
      "2022-12-09 00:05:45.911120: W tensorflow/tsl/framework/cpu_allocator_impl.cc:82] Allocation of 216000000 exceeds 10% of free system memory.\n",
      "2022-12-09 00:05:45.948384: W tensorflow/tsl/framework/cpu_allocator_impl.cc:82] Allocation of 216000000 exceeds 10% of free system memory.\n"
     ]
    },
    {
     "name": "stdout",
     "output_type": "stream",
     "text": [
      "Epoch 1/10\n"
     ]
    },
    {
     "name": "stderr",
     "output_type": "stream",
     "text": [
      "2022-12-09 00:05:46.252302: W tensorflow/tsl/framework/cpu_allocator_impl.cc:82] Allocation of 216000000 exceeds 10% of free system memory.\n",
      "2022-12-09 00:05:46.267154: W tensorflow/tsl/framework/cpu_allocator_impl.cc:82] Allocation of 216000000 exceeds 10% of free system memory.\n"
     ]
    },
    {
     "name": "stdout",
     "output_type": "stream",
     "text": [
      "8/8 [==============================] - 4s 476ms/step - loss: 55.8450 - acc: 0.5000\n",
      "Epoch 2/10\n",
      "8/8 [==============================] - 4s 474ms/step - loss: 44.7432 - acc: 0.3750\n",
      "Epoch 3/10\n",
      "8/8 [==============================] - 4s 458ms/step - loss: 17.3041 - acc: 0.7500\n",
      "Epoch 4/10\n",
      "8/8 [==============================] - 4s 459ms/step - loss: 35.5056 - acc: 0.6250\n",
      "Epoch 5/10\n",
      "8/8 [==============================] - 4s 453ms/step - loss: 12.3513 - acc: 0.5000\n",
      "Epoch 6/10\n",
      "8/8 [==============================] - 4s 445ms/step - loss: 14.5887 - acc: 0.7500\n",
      "Epoch 7/10\n",
      "8/8 [==============================] - 4s 468ms/step - loss: 1.5935e-09 - acc: 1.0000\n",
      "Epoch 8/10\n",
      "8/8 [==============================] - 4s 463ms/step - loss: 8.1169e-06 - acc: 1.0000\n",
      "Epoch 9/10\n",
      "8/8 [==============================] - 4s 472ms/step - loss: 3.2669e-04 - acc: 1.0000\n",
      "Epoch 10/10\n",
      "8/8 [==============================] - 4s 462ms/step - loss: 0.0043 - acc: 1.0000\n"
     ]
    }
   ],
   "source": [
    "hist = model.fit(train_data,epochs=10)"
   ]
  },
  {
   "cell_type": "markdown",
   "id": "f0f00a66",
   "metadata": {},
   "source": [
    "# Testing"
   ]
  },
  {
   "cell_type": "code",
   "execution_count": 11,
   "id": "81479fd7",
   "metadata": {},
   "outputs": [
    {
     "name": "stdout",
     "output_type": "stream",
     "text": [
      "Found 2 images belonging to 2 classes.\n"
     ]
    }
   ],
   "source": [
    "test_data = train_data_gen.flow_from_directory(\n",
    "    \"./data/test/\",\n",
    "    target_size=(60,60),\n",
    "    batch_size=1,\n",
    "    class_mode='binary'\n",
    ")"
   ]
  },
  {
   "cell_type": "code",
   "execution_count": 12,
   "id": "8156e76f",
   "metadata": {},
   "outputs": [
    {
     "name": "stdout",
     "output_type": "stream",
     "text": [
      "2/2 [==============================] - 0s 16ms/step\n"
     ]
    },
    {
     "data": {
      "text/plain": [
       "array([[0.0000000e+00],\n",
       "       [1.3622575e-07]], dtype=float32)"
      ]
     },
     "execution_count": 12,
     "metadata": {},
     "output_type": "execute_result"
    }
   ],
   "source": [
    "Y = model.predict(test_data)\n",
    "Y"
   ]
  },
  {
   "cell_type": "code",
   "execution_count": 13,
   "id": "4d928a7f",
   "metadata": {},
   "outputs": [
    {
     "data": {
      "text/plain": [
       "array([['Cat'],\n",
       "       ['Dog']], dtype='<U3')"
      ]
     },
     "execution_count": 13,
     "metadata": {},
     "output_type": "execute_result"
    }
   ],
   "source": [
    "np.where(Y>0, \"Dog\",\"Cat\")"
   ]
  },
  {
   "cell_type": "markdown",
   "id": "a78ec06f",
   "metadata": {},
   "source": [
    "# predict on image "
   ]
  },
  {
   "cell_type": "code",
   "execution_count": 14,
   "id": "100060a0",
   "metadata": {},
   "outputs": [
    {
     "name": "stdout",
     "output_type": "stream",
     "text": [
      "WARNING:tensorflow:Model was constructed with shape (None, None, None, None) for input KerasTensor(type_spec=TensorSpec(shape=(None, None, None, None), dtype=tf.float32, name='flatten_input'), name='flatten_input', description=\"created by layer 'flatten_input'\"), but it was called on an input with incompatible shape (None, 10800).\n",
      "1/1 [==============================] - 0s 69ms/step\n"
     ]
    },
    {
     "data": {
      "text/plain": [
       "array([[1.]], dtype=float32)"
      ]
     },
     "execution_count": 14,
     "metadata": {},
     "output_type": "execute_result"
    }
   ],
   "source": [
    "from tensorflow.keras.preprocessing import image\n",
    "import numpy as np\n",
    "img = image.load_img(\"data/train/dog/2.jpeg\", target_size=(60,60))\n",
    "x= image.img_to_array(img)/255\n",
    "x = x.reshape(1,-1)\n",
    "model.predict(x)"
   ]
  },
  {
   "cell_type": "code",
   "execution_count": 15,
   "id": "79a32323",
   "metadata": {},
   "outputs": [
    {
     "name": "stdout",
     "output_type": "stream",
     "text": [
      "1/1 [==============================] - 0s 31ms/step\n"
     ]
    },
    {
     "data": {
      "text/plain": [
       "array([[False]])"
      ]
     },
     "execution_count": 15,
     "metadata": {},
     "output_type": "execute_result"
    }
   ],
   "source": [
    "from tensorflow.keras.preprocessing import image\n",
    "import numpy as np\n",
    "img = image.load_img(\"data/train/cat/2.jpeg\", target_size=(60,60))\n",
    "x= image.img_to_array(img)/255\n",
    "x = x.reshape(1,-1)\n",
    "model.predict(x)>0"
   ]
  }
 ],
 "metadata": {
  "kernelspec": {
   "display_name": "tf",
   "language": "python",
   "name": "python3"
  },
  "language_info": {
   "codemirror_mode": {
    "name": "ipython",
    "version": 3
   },
   "file_extension": ".py",
   "mimetype": "text/x-python",
   "name": "python",
   "nbconvert_exporter": "python",
   "pygments_lexer": "ipython3",
   "version": "3.8.15"
  },
  "vscode": {
   "interpreter": {
    "hash": "ed6d435139e2d6d2e1c37f11f97c4ae8522c4d24eca5c58f794fdcf5b283eb89"
   }
  }
 },
 "nbformat": 4,
 "nbformat_minor": 5
}
