{
 "cells": [
  {
   "cell_type": "markdown",
   "id": "0563a768",
   "metadata": {},
   "source": [
    "# Machin Learning Mid Term Exam \n",
    "Note:\n",
    "<pre style='color:red'>\n",
    "1. update your cnic in file name\n",
    "2. There are three task each task has equal number\n",
    "3. Total marks 30\n",
    "4. Time duration: 60 minutes\n",
    "Dated: 27-Nov-2022\n",
    "Created by <a href='https://www.linkedin.com/in/sirqasim/'>Muhammad Qasim</a>\n",
    "\n",
    "After completed the below tasks take each screenshot and save it in folder\n",
    "all work save in <b>one folder except envornment folder</b> and make this folder as <b>.ZIP</b>, don't use <b>.rar</b> extension.\n",
    "</pre>"
   ]
  },
  {
   "cell_type": "markdown",
   "id": "e97c70c6",
   "metadata": {},
   "source": [
    "# Task1:\n",
    "You have to train multiclassification model with Tensorflow or pycaret or any ML algo rithm\n",
    "* we are using realworld data from kaggle <a href='https://www.kaggle.com/datasets/kukuroo3/body-performance-data/code'>**Body performance Data** click to view data details</a>\n",
    "<img src='data.png'>\n",
    "* total rows (records) **13,393**\n",
    "* save model which you will use in below two tasks\n",
    "* you can add cells below to complete task1\n"
   ]
  },
  {
   "cell_type": "code",
   "execution_count": null,
   "id": "cb93bc63",
   "metadata": {},
   "outputs": [],
   "source": []
  },
  {
   "cell_type": "markdown",
   "id": "4cc65b9a",
   "metadata": {},
   "source": [
    "# Task2:\n",
    " * Create Streamlit AI application  \n",
    " * load above save model here.\n",
    " * make streamlit form \n",
    " * predict the result using loaded model and form values\n"
   ]
  },
  {
   "cell_type": "code",
   "execution_count": null,
   "id": "8a55e56c",
   "metadata": {},
   "outputs": [],
   "source": []
  },
  {
   "cell_type": "markdown",
   "id": "32758ce2",
   "metadata": {},
   "source": [
    "# Task3:\n",
    "* Create Falsk AI application with loading above model\n",
    "* Create Form which we can you use to send data to ML model \n",
    "* Display predicted result\n",
    "* deploy on heroku"
   ]
  },
  {
   "cell_type": "code",
   "execution_count": null,
   "id": "e70e9f9f",
   "metadata": {},
   "outputs": [],
   "source": []
  },
  {
   "cell_type": "code",
   "execution_count": null,
   "id": "aa53a204",
   "metadata": {},
   "outputs": [],
   "source": []
  }
 ],
 "metadata": {
  "kernelspec": {
   "display_name": "Python 3",
   "language": "python",
   "name": "python3"
  },
  "language_info": {
   "codemirror_mode": {
    "name": "ipython",
    "version": 3
   },
   "file_extension": ".py",
   "mimetype": "text/x-python",
   "name": "python",
   "nbconvert_exporter": "python",
   "pygments_lexer": "ipython3",
   "version": "3.7.15"
  }
 },
 "nbformat": 4,
 "nbformat_minor": 5
}
